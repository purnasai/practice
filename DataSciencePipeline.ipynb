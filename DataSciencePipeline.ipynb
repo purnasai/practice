{
 "cells": [
  {
   "cell_type": "markdown",
   "metadata": {},
   "source": [
    "**find related blog here**: [link](https://medium.com/data-deft/data-science-pipeline-in-python-255150adb98f)"
   ]
  },
  {
   "cell_type": "code",
   "execution_count": null,
   "metadata": {},
   "outputs": [],
   "source": [
    "# import basic libraries\n",
    "import numpy as np \n",
    "import pandas as pd \n",
    "import warnings\n",
    "warnings.filterwarnings('ignore')\n",
    "\n",
    "# import plot libraries\n",
    "import seaborn as sns\n",
    "sns.set_palette('Set2')\n",
    "import matplotlib.pyplot as plt\n",
    "%matplotlib inline\n",
    "\n",
    "# import ml libraries\n",
    "from sklearn.metrics import confusion_matrix\n",
    "from sklearn.preprocessing import LabelEncoder, MinMaxScaler\n",
    "from sklearn.model_selection import train_test_split, cross_val_score\n",
    "from sklearn import linear_model, datasets\n",
    "from sklearn.ensemble import RandomForestClassifier, RandomForestRegressor\n",
    "from sklearn.metrics import accuracy_score\n",
    "from sklearn.svm import LinearSVC, SVC\n",
    "\n",
    "\n",
    "\n",
    "# categories v1, v4, v8, v9, v11, v12, v16, classLabel\n",
    "from sklearn.preprocessing import LabelEncoder\n",
    "label = LabelEncoder()\n",
    "\n",
    "# list number of files\n",
    "import os\n",
    "print(os.listdir(\"data\"))"
   ]
  },
  {
   "cell_type": "code",
   "execution_count": null,
   "metadata": {},
   "outputs": [],
   "source": [
    "# import data\n",
    "\n",
    "from subprocess import check_output\n",
    "print(check_output([\"ls\", \"../input/\"]).decode(\"utf8\"))\n",
    "\n",
    "train = pd.read_csv(\"data/train.csv\")\n",
    "test = pd.read_csv(\"data/test.csv\")"
   ]
  },
  {
   "cell_type": "code",
   "execution_count": null,
   "metadata": {},
   "outputs": [],
   "source": [
    "# check shape\n",
    "\n",
    "print(\"Train rows and columns : \", train.shape)\n",
    "print(\"Test rows and columns : \", test.shape)"
   ]
  },
  {
   "cell_type": "code",
   "execution_count": null,
   "metadata": {},
   "outputs": [],
   "source": [
    "# check column types\n",
    "\n",
    "ctype = train.dtypes.reset_index()\n",
    "ctype.columns = [\"Count\", \"Column Type\"]\n",
    "ctype.groupby(\"Column Type\").aggregate('count').reset_index()\n",
    "\n",
    "train.info()"
   ]
  },
  {
   "cell_type": "code",
   "execution_count": null,
   "metadata": {},
   "outputs": [],
   "source": [
    "# display data\n",
    "\n",
    "train.head()"
   ]
  },
  {
   "cell_type": "code",
   "execution_count": null,
   "metadata": {},
   "outputs": [],
   "source": [
    "# numerical data distribution\n",
    "\n",
    "train.describe()"
   ]
  },
  {
   "cell_type": "code",
   "execution_count": null,
   "metadata": {},
   "outputs": [],
   "source": [
    "# categorical data distribution\n",
    "\n",
    "train.describe(include=['O'])"
   ]
  },
  {
   "cell_type": "code",
   "execution_count": null,
   "metadata": {},
   "outputs": [],
   "source": [
    "# check missing values\n",
    "missing_df = train.isnull().sum(axis=0).reset_index()\n",
    "missing_df.columns = ['column_name', 'missing_count']\n",
    "missing_df = missing_df[missing_df['missing_count']>0]\n",
    "missing_df = missing_df.sort_values(by='missing_count')\n",
    "missing_df"
   ]
  },
  {
   "cell_type": "code",
   "execution_count": null,
   "metadata": {},
   "outputs": [],
   "source": [
    "# impute/treat missing values\n",
    "\n",
    "train['col1'] = train['col1'].fillna(train['col1'].value_counts().index[0])  # for categorical\n",
    "\n",
    "train['col2'].fillna(train['col2'].mean(), inplace=True) # for numerical (mean or median)"
   ]
  },
  {
   "cell_type": "code",
   "execution_count": null,
   "metadata": {},
   "outputs": [],
   "source": [
    "# check ouliers\n",
    "\n",
    "train.ix[np.abs(train.col-fmean) > (3*fstd), 'col'] # upper outliers\n",
    "train.ix[np.abs(train.col-fmean) < -(3*fstd), 'col'] # lower outliers"
   ]
  },
  {
   "cell_type": "code",
   "execution_count": null,
   "metadata": {},
   "outputs": [],
   "source": [
    "# treat outliers\n",
    "\n",
    "fmean = train.col.mean()\n",
    "fstd = train.col.std()\n",
    "train.ix[np.abs(train.col-fmean) > (3*fstd), 'col'] = fmean + (3*fstd)  # treat upper outliers\n",
    "train.ix[np.abs(train.col-fmean) < -(3*fstd), 'col'] = -(fmean + (3*fstd)) # treat lower outliers"
   ]
  },
  {
   "cell_type": "code",
   "execution_count": null,
   "metadata": {},
   "outputs": [],
   "source": [
    "# univariate analysis\n",
    "\n",
    "# histogram of numerical column\n",
    "plt.figure(figsize=(12,8))\n",
    "sns.distplot(train[\"num\"].values, bins=10, kde=False)\n",
    "plt.xlabel('num', fontsize=12)\n",
    "plt.title(\"num histogram\", fontsize=14)\n",
    "plt.show()\n",
    "\n",
    "# charts of categorical column\n",
    "labels = train.cat.unique()\n",
    "sizes = [train['cat'].value_counts()[1],\n",
    "         train['cat'].value_counts()[0]\n",
    "        ]\n",
    "# pie plot for categorical column\n",
    "fig1, ax1 = plt.subplots()\n",
    "ax1.pie(sizes, labels=labels, autopct='%1.1f%%', shadow=True)\n",
    "ax1.axis('equal')\n",
    "\n",
    "# bar plot for categorical column\n",
    "fig2, ax2 = plt.subplots()\n",
    "sns.countplot(\"col\", data=train)\n",
    "plt.show()"
   ]
  },
  {
   "cell_type": "code",
   "execution_count": null,
   "metadata": {},
   "outputs": [],
   "source": [
    "# bivariate analysis\n",
    "\n",
    "sns.barplot(x='cat1', y='cat2', data=train) # categorical vs categorical\n",
    "\n",
    "sns.violinplot(x='cat', y='num', data=train) # categorical vs numerical\n",
    "\n",
    "sns.regplot(x=\"num1\", y=\"num2\", data=train) # numerical vs numerical"
   ]
  },
  {
   "cell_type": "code",
   "execution_count": null,
   "metadata": {},
   "outputs": [],
   "source": [
    "# multivariate analysis \n",
    "\n",
    "temp = train[cols_to_use]\n",
    "corrmat = temp.corr(method='spearman')\n",
    "f, ax = plt.subplots(figsize=(20, 20))\n",
    "\n",
    "sns.heatmap(corrmat, vmax=1., square=True, cmap=\"YlGnBu\", annot=True)\n",
    "plt.title(\"numerical variables correlation map\", fontsize=15)\n",
    "plt.show()"
   ]
  },
  {
   "cell_type": "code",
   "execution_count": null,
   "metadata": {},
   "outputs": [],
   "source": [
    "# split data\n",
    "\n",
    "y = train.target\n",
    "X = train.drop('target', axis=1, inplace=False)\n",
    "\n",
    "X_train, X_val, y_train, y_val = train_test_split(X, y,random_state = 123)"
   ]
  },
  {
   "cell_type": "code",
   "execution_count": null,
   "metadata": {},
   "outputs": [],
   "source": [
    "# feature engineering on train/valid\n",
    "\n",
    "label = LabelEncoder()\n",
    "X_train['cat'] = label.fit_transform(X_train['cat']) # for categorical data\n",
    "\n",
    "scaler = MinMaxScaler()            # for numerical data\n",
    "scaler.fit(X_train)                      \n",
    "X_train = scaler.transform(X_train)\n",
    "X_val = scaler.transform(X_val)"
   ]
  },
  {
   "cell_type": "code",
   "execution_count": null,
   "metadata": {},
   "outputs": [],
   "source": [
    "# build model on train\n",
    "\n",
    "model = linear_model.LogisticRegression(C=1e5) # RandomForestClassifier(), SVC(), RandomForestRegressor() etc\n",
    "\n",
    "model.fit(X_train, y_train)\n",
    "\n",
    "y_pred = model.predict(X_val)\n",
    "\n",
    "model.score(X_train, y_train)"
   ]
  },
  {
   "cell_type": "code",
   "execution_count": null,
   "metadata": {},
   "outputs": [],
   "source": [
    "# evaluate on valid\n",
    "\n",
    "confusion_matrix(y_val, y_pred) # for categorical target\n",
    "\n",
    "mean_squared_error(y_true, y_pred) # for numerical target"
   ]
  },
  {
   "cell_type": "code",
   "execution_count": null,
   "metadata": {},
   "outputs": [],
   "source": [
    "# k-fold cross-validation\n",
    "\n",
    "model = svm.SVC(kernel='linear', C=1)\n",
    "\n",
    "scores = cross_val_score(model, X_train, y_train, cv=5)\n",
    "\n",
    "print(\"Score: %0.2f (+/- %0.2f)\" % (scores.mean(), scores.std() * 2))                   "
   ]
  },
  {
   "cell_type": "code",
   "execution_count": null,
   "metadata": {},
   "outputs": [],
   "source": [
    "# hyper-parameter tuning\n",
    "\n",
    "for gamma in [0.001, 0.01, 0.1, 1, 10, 100]:\n",
    "    for C in [0.001, 0.01, 0.1, 1, 10, 100]:\n",
    "        # for each combination of parameters,\n",
    "        # train an SVC\n",
    "        svm = SVC(gamma=gamma, C=C)\n",
    "        # perform cross-validation\n",
    "        scores = cross_val_score(svm, X_train, y_train, cv=5)\n",
    "        # compute mean cross-validation accuracy\n",
    "        score = np.mean(scores)\n",
    "        # if we got a better score, store the score and parameters\n",
    "        if score > best_score:\n",
    "            best_score = score\n",
    "            best_parameters = {'C': C, 'gamma': gamma}\n",
    "# rebuild a model on the combined training and validation set\n",
    "svm = SVC(**best_parameters)\n",
    "svm.fit(X_train, y_train)"
   ]
  },
  {
   "cell_type": "code",
   "execution_count": null,
   "metadata": {},
   "outputs": [],
   "source": [
    "# ensembling/stacking\n",
    "\n",
    "# to be continued..."
   ]
  }
 ],
 "metadata": {
  "kernelspec": {
   "display_name": "Python 3",
   "language": "python",
   "name": "python3"
  },
  "language_info": {
   "codemirror_mode": {
    "name": "ipython",
    "version": 3
   },
   "file_extension": ".py",
   "mimetype": "text/x-python",
   "name": "python",
   "nbconvert_exporter": "python",
   "pygments_lexer": "ipython3",
   "version": "3.6.5"
  }
 },
 "nbformat": 4,
 "nbformat_minor": 2
}
